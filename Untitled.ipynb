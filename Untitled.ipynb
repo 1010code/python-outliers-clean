{
 "cells": [
  {
   "cell_type": "markdown",
   "metadata": {},
   "source": [
    "To remove all rows that contain only 0 we can use the following syntax"
   ]
  },
  {
   "cell_type": "code",
   "execution_count": 22,
   "metadata": {},
   "outputs": [
    {
     "name": "stdout",
     "output_type": "stream",
     "text": [
      "[[5 5 6 9 7 3 9 0 4 4]\n",
      " [5 5 7 4 0 1 1 0 7 3]\n",
      " [0 2 6 6 7 6 8 4 4 9]\n",
      " [0 0 0 0 0 0 0 0 0 0]\n",
      " [9 8 7 3 1 3 6 1 1 9]\n",
      " [5 2 9 8 4 8 1 8 0 1]\n",
      " [2 0 6 7 4 2 2 0 3 4]\n",
      " [0 0 0 0 0 0 0 0 0 0]\n",
      " [0 0 0 0 0 0 0 0 0 0]\n",
      " [1 5 1 3 8 5 3 5 9 9]]\n",
      "original data shape (10, 10)\n",
      "----- after removing rows with only 0 -----\n",
      "[[5 5 6 9 7 3 9 0 4 4]\n",
      " [5 5 7 4 0 1 1 0 7 3]\n",
      " [0 2 6 6 7 6 8 4 4 9]\n",
      " [9 8 7 3 1 3 6 1 1 9]\n",
      " [5 2 9 8 4 8 1 8 0 1]\n",
      " [2 0 6 7 4 2 2 0 3 4]\n",
      " [1 5 1 3 8 5 3 5 9 9]]\n",
      "new data shape (7, 10)\n"
     ]
    }
   ],
   "source": [
    "import numpy as np\n",
    "\n",
    "data = np.random.choice(10, 100)\n",
    "\n",
    "data = data.reshape(10,10)\n",
    "\n",
    "data[3,:] = 0\n",
    "data[7,:] = 0\n",
    "data[8,:] = 0\n",
    "\n",
    "print(data)\n",
    "print('original data shape', data.shape)\n",
    "\n",
    "print('----- after removing rows with only 0 -----')\n",
    "\n",
    "data = data[~np.all(data == 0, axis=1)]\n",
    "\n",
    "print(data)\n",
    "print('new data shape', data.shape)"
   ]
  },
  {
   "cell_type": "code",
   "execution_count": null,
   "metadata": {},
   "outputs": [],
   "source": []
  }
 ],
 "metadata": {
  "kernelspec": {
   "display_name": "Python 3",
   "language": "python",
   "name": "python3"
  },
  "language_info": {
   "codemirror_mode": {
    "name": "ipython",
    "version": 3
   },
   "file_extension": ".py",
   "mimetype": "text/x-python",
   "name": "python",
   "nbconvert_exporter": "python",
   "pygments_lexer": "ipython3",
   "version": "3.7.6"
  }
 },
 "nbformat": 4,
 "nbformat_minor": 4
}
